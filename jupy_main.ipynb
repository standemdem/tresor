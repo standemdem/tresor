{
 "cells": [
  {
   "cell_type": "markdown",
   "metadata": {},
   "source": [
    "## INFORMATIONS:\n",
    "Ce jupyter Notebook n'a que pour but d'explorer le problème donné.\n",
    "Il n'est pas la solution apportée au problème\n"
   ]
  },
  {
   "cell_type": "code",
   "execution_count": 1,
   "metadata": {},
   "outputs": [
    {
     "name": "stdout",
     "output_type": "stream",
     "text": [
      "Montant du FASEP: 400 000 €\n",
      "Date de signature FASEP: 11 Septembre 2020\n",
      "Avis sur le versement intermédiaire FASEP: Favorable\n"
     ]
    }
   ],
   "source": [
    "# imports\n",
    "from pptx import Presentation\n",
    "import re\n",
    "\n",
    "prs = Presentation(\"example FASEP.pptx\")\n",
    "\n",
    "# Regex for the amount of FASEP\n",
    "regex_FASEP = re.compile(r\"Montant du FASEP\", re.IGNORECASE)\n",
    "\n",
    "# Regex for the signature date of FASEP\n",
    "regex_date_signature = re.compile(r\"Date de signature de la convention\", re.IGNORECASE)\n",
    "\n",
    "# Regex for the opinion about the intermediary opinion\n",
    "regex_avis = re.compile(r\"Avis sur le versement intermédiaire\", re.IGNORECASE)\n",
    "\n",
    "# text_runs will be populated with a list of strings,\n",
    "# one for each text run in presentation\n",
    "prs = Presentation(\"example FASEP.pptx\")\n",
    "text_runs = []\n",
    "\n",
    "for slide in prs.slides:\n",
    "    # find out if a slide contains a table shape, if not goes to next slide\n",
    "    for shape in slide.shapes:\n",
    "        if not shape.has_table:\n",
    "            continue    \n",
    "\n",
    "        # get number of rows and column of the table\n",
    "        tbl = shape.table\n",
    "        row_count = len(tbl.rows)\n",
    "        col_count = len(tbl.columns)\n",
    "\n",
    "        # extract content of each cell \n",
    "        for r in range(0, row_count):\n",
    "            for c in range(0, col_count-1):\n",
    "                cell = tbl.cell(r, c)\n",
    "                paragraphs = cell.text_frame.paragraphs \n",
    "\n",
    "                for paragraph in paragraphs:\n",
    "                    amount = regex_FASEP.search(paragraph.text)\n",
    "                    date = regex_date_signature.search(paragraph.text)\n",
    "                    avis = regex_avis.search(paragraph.text)\n",
    "                    if amount:\n",
    "                        print(f\"Montant du FASEP: {tbl.cell(r, c+1).text}\")\n",
    "                    if date:\n",
    "                        print(f\"Date de signature FASEP: {tbl.cell(r,c+1).text}\")\n",
    "                    if avis and tbl.cell(r,c+1).text != \"\":\n",
    "                        print(f\"Avis sur le versement intermédiaire FASEP: {tbl.cell(r,c+1).text}\")\n"
   ]
  },
  {
   "cell_type": "code",
   "execution_count": null,
   "metadata": {},
   "outputs": [],
   "source": []
  }
 ],
 "metadata": {
  "kernelspec": {
   "display_name": ".venv",
   "language": "python",
   "name": "python3"
  },
  "language_info": {
   "codemirror_mode": {
    "name": "ipython",
    "version": 3
   },
   "file_extension": ".py",
   "mimetype": "text/x-python",
   "name": "python",
   "nbconvert_exporter": "python",
   "pygments_lexer": "ipython3",
   "version": "3.10.12"
  }
 },
 "nbformat": 4,
 "nbformat_minor": 2
}
